{
  "nbformat": 4,
  "nbformat_minor": 0,
  "metadata": {
    "colab": {
      "name": "TARUN_KOHLI.ipynb",
      "provenance": []
    },
    "kernelspec": {
      "name": "python3",
      "display_name": "Python 3"
    },
    "language_info": {
      "name": "python"
    }
  },
  "cells": [
    {
      "cell_type": "code",
      "metadata": {
        "id": "b4zJIK9mvKfb"
      },
      "source": [
        "import numpy as np\n",
        "import pandas as pd\n",
        "import sklearn"
      ],
      "execution_count": null,
      "outputs": []
    },
    {
      "cell_type": "code",
      "metadata": {
        "id": "5EAIZls1wYvt"
      },
      "source": [
        "[] from sklearn.datasets import load_boston\n",
        "df = load_boston()"
      ],
      "execution_count": null,
      "outputs": []
    },
    {
      "cell_type": "code",
      "metadata": {
        "id": "oieMGd4wws1t"
      },
      "source": [
        "[] df.keys()"
      ],
      "execution_count": null,
      "outputs": []
    },
    {
      "cell_type": "code",
      "metadata": {
        "id": "9qy-0C6nxIpu"
      },
      "source": [
        "[] boston = pd.DataFrame (df.data, columns=df.feature_names)\n",
        "   boston.head()"
      ],
      "execution_count": null,
      "outputs": []
    },
    {
      "cell_type": "code",
      "metadata": {
        "id": "_yICq5zaxtEU"
      },
      "source": [
        "[] boston['MEDV'] = df.target\n",
        "   boston.head()"
      ],
      "execution_count": null,
      "outputs": []
    },
    {
      "cell_type": "code",
      "metadata": {
        "id": "QUxivdK9ykwL"
      },
      "source": [
        "[] boston.isnull()"
      ],
      "execution_count": null,
      "outputs": []
    },
    {
      "cell_type": "code",
      "metadata": {
        "id": "8DporFHXzMpB"
      },
      "source": [
        "[] boston.isnull().sum()"
      ],
      "execution_count": null,
      "outputs": []
    },
    {
      "cell_type": "code",
      "metadata": {
        "id": "qSIac4qbzp4Y"
      },
      "source": [
        "[] from sklearn.model_selection import train_test_split\n",
        "\n",
        "   X = boston.drop('MEDV', axis=1)\n",
        "   Y = boston['MEDV']\n",
        "\n",
        "   X_train, X_test, Y_train, Y_test = train_test_split(X, Y, test_size = 0.15, random_state=5)\n",
        "\n",
        "   print(X_train.shape)\n",
        "   print(X_test.shape)\n",
        "   print(Y_train.shape)\n",
        "   print(Y_test.shape)"
      ],
      "execution_count": null,
      "outputs": []
    },
    {
      "cell_type": "code",
      "metadata": {
        "id": "EQubHT4I2rkW"
      },
      "source": [
        "[] from sklearn.linear_model import LinearRegression\n",
        "   from sklearn.metrics import mean_squared_error"
      ],
      "execution_count": null,
      "outputs": []
    },
    {
      "cell_type": "code",
      "metadata": {
        "id": "30dLJVdb3Nl0"
      },
      "source": [
        "[]  ## FITTING MODEL ON THE TRAINING DATASHEET\n",
        "    \n",
        "    lin_model = LinearRegression()\n",
        "\n",
        "    lin_model.fit(X_train, Y_train)\n",
        "\n",
        "[]  y_train_predict = lin_model.predict(X_train) \n",
        "    rmse = (np.sqrt(mean_squared_error(Y_train, y_train_predict)))\n",
        "\n",
        "    print(\"The model performance for training set\")\n",
        "    print( 'RMSE is {}'.format(rmse))\n",
        "    print(\"\\n\")\n",
        "\n",
        "    # on testing set \n",
        "    y_test_predict = lin_model.predict(X_test)\n",
        "    rmse = (np.sqrt(mean_squared_error(Y_test, y_test_predict)))\n",
        "\n",
        "    print(\"The model performance for testing set\")\n",
        "    print( 'RMSE IS {}'.format(rmse))"
      ],
      "execution_count": null,
      "outputs": []
    }
  ]
}